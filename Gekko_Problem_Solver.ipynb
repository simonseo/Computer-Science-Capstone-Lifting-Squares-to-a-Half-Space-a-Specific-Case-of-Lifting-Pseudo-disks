{
  "nbformat": 4,
  "nbformat_minor": 0,
  "metadata": {
    "colab": {
      "name": "Gekko Problem Solver.ipynb",
      "version": "0.3.2",
      "provenance": [],
      "collapsed_sections": [],
      "include_colab_link": true
    },
    "kernelspec": {
      "name": "python3",
      "display_name": "Python 3"
    }
  },
  "cells": [
    {
      "cell_type": "markdown",
      "metadata": {
        "id": "view-in-github",
        "colab_type": "text"
      },
      "source": [
        "<a href=\"https://colab.research.google.com/github/simonseo/Computer-Science-Capstone-Lifting-Squares-to-a-Half-Space-a-Specific-Case-of-Lifting-Pseudo-disks/blob/master/Gekko_Problem_Solver.ipynb\" target=\"_parent\"><img src=\"https://colab.research.google.com/assets/colab-badge.svg\" alt=\"Open In Colab\"/></a>"
      ]
    },
    {
      "metadata": {
        "id": "8a8AKLqfPiiQ",
        "colab_type": "code",
        "cellView": "code",
        "outputId": "810bf535-ecd4-4a48-f8c2-99b728317edd",
        "colab": {
          "base_uri": "https://localhost:8080/",
          "height": 197
        }
      },
      "cell_type": "code",
      "source": [
        "!pip install gekko\n",
        "from gekko import GEKKO\n",
        "from random import uniform\n",
        "from IPython.display import HTML, SVG\n",
        "from IPython.core.magic import register_cell_magic\n"
      ],
      "execution_count": 98,
      "outputs": [
        {
          "output_type": "stream",
          "text": [
            "Requirement already satisfied: gekko in /usr/local/lib/python3.6/dist-packages (0.1)\n",
            "Requirement already satisfied: flask-cors in /usr/local/lib/python3.6/dist-packages (from gekko) (3.0.7)\n",
            "Requirement already satisfied: numpy>=1.8 in /usr/local/lib/python3.6/dist-packages (from gekko) (1.16.2)\n",
            "Requirement already satisfied: flask in /usr/local/lib/python3.6/dist-packages (from gekko) (1.0.2)\n",
            "Requirement already satisfied: Six in /usr/local/lib/python3.6/dist-packages (from flask-cors->gekko) (1.11.0)\n",
            "Requirement already satisfied: click>=5.1 in /usr/local/lib/python3.6/dist-packages (from flask->gekko) (7.0)\n",
            "Requirement already satisfied: itsdangerous>=0.24 in /usr/local/lib/python3.6/dist-packages (from flask->gekko) (1.1.0)\n",
            "Requirement already satisfied: Jinja2>=2.10 in /usr/local/lib/python3.6/dist-packages (from flask->gekko) (2.10.1)\n",
            "Requirement already satisfied: Werkzeug>=0.14 in /usr/local/lib/python3.6/dist-packages (from flask->gekko) (0.15.2)\n",
            "Requirement already satisfied: MarkupSafe>=0.23 in /usr/local/lib/python3.6/dist-packages (from Jinja2>=2.10->flask->gekko) (1.1.1)\n"
          ],
          "name": "stdout"
        }
      ]
    },
    {
      "metadata": {
        "id": "Im6IhFV4Tth-",
        "colab_type": "text"
      },
      "cell_type": "markdown",
      "source": [
        "## Parse Input"
      ]
    },
    {
      "metadata": {
        "id": "kHgkHKntPdu9",
        "colab_type": "code",
        "colab": {}
      },
      "cell_type": "code",
      "source": [
        "DEBUG = True\n",
        "# input_str = \"\" #@param {type:\"string\"}\n",
        "\n",
        "input_str = \"\"\"4 11\n",
        "1\n",
        "2\n",
        "3\n",
        "4\n",
        "1 2\n",
        "1 3\n",
        "1 2 3\n",
        "2 3\n",
        "2 4\n",
        "3 4\n",
        "2 3 4\"\"\"\n",
        "\n",
        "\n",
        "# input_str = \"\"\"2 3\n",
        "# 1\n",
        "# 2\n",
        "# 1 2\"\"\"\n",
        "\n",
        "\n",
        "# input_str = \"\"\"3 6\n",
        "# 1\n",
        "# 2\n",
        "# 3\n",
        "# 1 2\n",
        "# 1 2 3\n",
        "# 2 3\"\"\""
      ],
      "execution_count": 0,
      "outputs": []
    },
    {
      "metadata": {
        "id": "cEppMtQSQBwX",
        "colab_type": "code",
        "outputId": "7783aba2-fed3-4b19-8ee1-90ec0425f2cb",
        "colab": {
          "base_uri": "https://localhost:8080/",
          "height": 35
        }
      },
      "cell_type": "code",
      "source": [
        "input_list = [[int(s) for s in el.split()] for el in input_str.split('\\n')]\n",
        "if DEBUG:\n",
        "  print(input_list)\n",
        "square_count, demand_count = input_list.pop(0) # square_count + demand_count is the number of R^2 variables\n"
      ],
      "execution_count": 92,
      "outputs": [
        {
          "output_type": "stream",
          "text": [
            "[[4, 11], [1], [2], [3], [4], [1, 2], [1, 3], [1, 2, 3], [2, 3], [2, 4], [3, 4], [2, 3, 4]]\n"
          ],
          "name": "stdout"
        }
      ]
    },
    {
      "metadata": {
        "id": "aOxMG-T2RNNT",
        "colab_type": "code",
        "outputId": "fee629cb-1a3e-4422-93b0-4db840ba7d09",
        "colab": {
          "base_uri": "https://localhost:8080/",
          "height": 55
        }
      },
      "cell_type": "code",
      "source": [
        "# Initialize M\n",
        "M = [ [-1 for _ in range(square_count)] for _ in range(demand_count) ]\n",
        "\n",
        "for i, demand in enumerate(input_list):\n",
        "  for sq_idx in demand:\n",
        "    M[i][sq_idx-1] = 1\n",
        "\n",
        "if DEBUG:\n",
        "  print(M)"
      ],
      "execution_count": 93,
      "outputs": [
        {
          "output_type": "stream",
          "text": [
            "[[1, -1, -1, -1], [-1, 1, -1, -1], [-1, -1, 1, -1], [-1, -1, -1, 1], [1, 1, -1, -1], [1, -1, 1, -1], [1, 1, 1, -1], [-1, 1, 1, -1], [-1, 1, -1, 1], [-1, -1, 1, 1], [-1, 1, 1, 1]]\n"
          ],
          "name": "stdout"
        }
      ]
    },
    {
      "metadata": {
        "id": "ACPuD0tfTqA5",
        "colab_type": "text"
      },
      "cell_type": "markdown",
      "source": [
        "## Create Problem and Solve"
      ]
    },
    {
      "metadata": {
        "id": "7nspi7wKbzMx",
        "colab_type": "code",
        "colab": {}
      },
      "cell_type": "code",
      "source": [
        "\n",
        "\n",
        "## Create variables and demands\n",
        "m = GEKKO()\n",
        "# circle_vars = [ [m.Var(), m.Var()] for _ in range(square_count)]\n",
        "# region_vars = [ [m.Var(), m.Var()] for _ in range(demand_count)]\n",
        "circle_vars = [ [m.Var(value=uniform(0,5)), m.Var(value=uniform(0,5))] for _ in range(square_count)]\n",
        "region_vars = [ [m.Var(value=uniform(0,5)), m.Var(value=uniform(0,5))] for _ in range(demand_count)]\n",
        "\n",
        "\n",
        "for i, demand in enumerate(M):\n",
        "  x1, y1 = region_vars[i][0], region_vars[i][1]\n",
        "  x1.lower = 0\n",
        "  y1.lower = 0\n",
        "  x1.upper = 5\n",
        "  y1.upper = 5\n",
        "  for j, val in enumerate(demand):\n",
        "    assert val == 1 or val == -1\n",
        "    x2, y2 = circle_vars[j][0], circle_vars[j][1]\n",
        "    x2.lower = 0\n",
        "    y2.lower = 0\n",
        "    x2.upper = 5\n",
        "    y2.upper = 5\n",
        "    m.Equation(val*((x2-x1)**2+(y2-y1)**2)**(1/2)<val*(1-val/10))\n",
        "\n",
        "m.solve(disp=False)"
      ],
      "execution_count": 0,
      "outputs": []
    },
    {
      "metadata": {
        "id": "MVfBPbe9qpYF",
        "colab_type": "text"
      },
      "cell_type": "markdown",
      "source": [
        ""
      ]
    },
    {
      "metadata": {
        "id": "b3vq6qbaTPCE",
        "colab_type": "text"
      },
      "cell_type": "markdown",
      "source": [
        "## Draw Results"
      ]
    },
    {
      "metadata": {
        "id": "vUuBwJRG23ZM",
        "colab_type": "code",
        "colab": {}
      },
      "cell_type": "code",
      "source": [
        "ellipse_string = \"\"\n",
        "for circle in circle_vars:\n",
        "  x, y = circle\n",
        "  x, y = x.value[0], y.value[0]\n",
        "  ellipse_string += \"ellipse({},{},{},{});\".format(x*100,y*100,200,200) # xstart ystart width height\n",
        "\n",
        "point_string = \"\"\n",
        "for point in region_vars:\n",
        "  x, y = point\n",
        "  x, y = x.value[0], y.value[0]\n",
        "  point_string += \"ellipse({},{},{},{});\".format(x*100,y*100,5,5)\n"
      ],
      "execution_count": 0,
      "outputs": []
    },
    {
      "metadata": {
        "id": "rttyuO3bJjv_",
        "colab_type": "code",
        "colab": {
          "base_uri": "https://localhost:8080/",
          "height": 305
        },
        "outputId": "3ed4dc9a-8757-4fc2-ba29-8e3a3222785b"
      },
      "cell_type": "code",
      "source": [
        "circle_vars, \"\\n\", region_vars"
      ],
      "execution_count": 104,
      "outputs": [
        {
          "output_type": "execute_result",
          "data": {
            "text/plain": [
              "([[[1.2001780942], [2.3707081068]],\n",
              "  [[2.4037984943], [3.0969559021]],\n",
              "  [[2.4518672986], [1.969310805]],\n",
              "  [[3.8825790278], [2.3917288846]]],\n",
              " '\\n',\n",
              " [[[0.69769891947], [2.3091767301]],\n",
              "  [[2.1713363537], [3.7400789301]],\n",
              "  [[2.940427851], [1.6842426321]],\n",
              "  [[4.2615867736], [2.186542531]],\n",
              "  [[1.6430905401], [2.9185861832]],\n",
              "  [[1.7439372536], [1.9739369797]],\n",
              "  [[1.9573691711], [2.5318897522]],\n",
              "  [[2.4719807263], [2.5633181499]],\n",
              "  [[3.2134843503], [2.8522607088]],\n",
              "  [[3.2591170217], [2.028341716]],\n",
              "  [[3.0389496049], [2.5373794752]]])"
            ]
          },
          "metadata": {
            "tags": []
          },
          "execution_count": 104
        }
      ]
    },
    {
      "metadata": {
        "id": "wLC5X5xIY2YL",
        "colab_type": "code",
        "colab": {
          "base_uri": "https://localhost:8080/",
          "height": 520
        },
        "outputId": "0e713c99-08c7-47d2-89f4-09b81c741452"
      },
      "cell_type": "code",
      "source": [
        "HTML('''\n",
        "<script src=\"https://cdnjs.cloudflare.com/ajax/libs/p5.js/0.6.0/p5.js\"></script>\n",
        "<script>\n",
        "new p5();\n",
        "\n",
        "createCanvas(500, 500)\n",
        "rect(0,0,500,500)\n",
        "noFill()\n",
        "{0}\n",
        "{1}\n",
        "\n",
        "</script>\n",
        "'''.format(ellipse_string, point_string)) \n",
        "\n"
      ],
      "execution_count": 106,
      "outputs": [
        {
          "output_type": "execute_result",
          "data": {
            "text/html": [
              "\n",
              "<script src=\"https://cdnjs.cloudflare.com/ajax/libs/p5.js/0.6.0/p5.js\"></script>\n",
              "<script>\n",
              "new p5();\n",
              "\n",
              "createCanvas(500, 500)\n",
              "rect(0,0,500,500)\n",
              "noFill()\n",
              "ellipse(120.01780941999999,237.07081068,200,200);ellipse(240.37984943,309.69559021,200,200);ellipse(245.18672985999999,196.9310805,200,200);ellipse(388.25790278,239.17288846,200,200);\n",
              "ellipse(69.76989194699999,230.91767301,5,5);ellipse(217.13363537,374.00789301000003,5,5);ellipse(294.0427851,168.42426321,5,5);ellipse(426.15867736,218.6542531,5,5);ellipse(164.30905401,291.85861832,5,5);ellipse(174.39372536,197.39369797,5,5);ellipse(195.73691711,253.18897522,5,5);ellipse(247.19807263,256.33181499,5,5);ellipse(321.34843503,285.22607088,5,5);ellipse(325.91170217,202.8341716,5,5);ellipse(303.89496049,253.73794751999998,5,5);\n",
              "\n",
              "</script>\n"
            ],
            "text/plain": [
              "<IPython.core.display.HTML object>"
            ]
          },
          "metadata": {
            "tags": []
          },
          "execution_count": 106
        }
      ]
    },
    {
      "metadata": {
        "id": "wvG0_SlzT2Ro",
        "colab_type": "code",
        "colab": {}
      },
      "cell_type": "code",
      "source": [
        ""
      ],
      "execution_count": 0,
      "outputs": []
    }
  ]
}