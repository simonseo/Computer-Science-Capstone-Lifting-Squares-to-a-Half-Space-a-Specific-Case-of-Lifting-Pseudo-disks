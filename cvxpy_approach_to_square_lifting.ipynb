{
  "nbformat": 4,
  "nbformat_minor": 0,
  "metadata": {
    "colab": {
      "name": "cvxpy approach to square lifting.ipynb",
      "version": "0.3.2",
      "provenance": [],
      "collapsed_sections": [],
      "include_colab_link": true
    },
    "kernelspec": {
      "name": "python3",
      "display_name": "Python 3"
    }
  },
  "cells": [
    {
      "cell_type": "markdown",
      "metadata": {
        "id": "view-in-github",
        "colab_type": "text"
      },
      "source": [
        "<a href=\"https://colab.research.google.com/github/simonseo/Computer-Science-Capstone-Lifting-Squares-to-a-Half-Space-a-Specific-Case-of-Lifting-Pseudo-disks/blob/master/cvxpy_approach_to_square_lifting.ipynb\" target=\"_parent\"><img src=\"https://colab.research.google.com/assets/colab-badge.svg\" alt=\"Open In Colab\"/></a>"
      ]
    },
    {
      "metadata": {
        "id": "ktk7G-a6SQIq",
        "colab_type": "text"
      },
      "cell_type": "markdown",
      "source": [
        "# [CVXPY](http://www.cvxpy.org/tutorial/intro/index.html) Approach to the Square Liftability problem\n",
        "We will try to find cases where squares are not liftable to half-spaces\n",
        "## Issues\n",
        "1. [DCPError: Problem does not follow DCP rules.](https://colab.research.google.com/drive/1f0xyAtKMKTFlUnlQOwIQE6SaJ80b0DJq?authuser=1#scrollTo=oVgKtqUDH9vW) Seems like `1` or `dummy_var**2` aren't accepted as proper objective functions. [DCP Rules](http://cvxr.com/cvx/doc/dcp.html)\n",
        "1. Optimize point/square sampling by forcing some points to be inside the square\n",
        "1. Use [Turtle](https://opentechschool.github.io/python-beginners/en/simple_drawing.html) to draw squares and points\n",
        "1. Pretty print membership matrix\n",
        "\n",
        "## Outline\n",
        "\n",
        "1. Randomly sample m points in 2D (p_i)\n",
        "1. Randomly sample 2n points that make n squares (S_j)\n",
        "1. Save flags \n",
        "  ```python\n",
        "   membership[i][j] = 1 if P_i.isinside(S_j) else -1\n",
        "  ```\n",
        "\n",
        "1. Create 3m variables representing 3D points (x_i,y_i,z_i, 1)\n",
        "  ```python\n",
        "  Q = cvx.Variable(m, 3)\n",
        "  ```\n",
        "1. Create 3n variables representing 3D half-spaces (a_i, b_i, c_i, 1): \n",
        "  ```python\n",
        "   H = cvx.Variable(n, 3)\n",
        "  ```\n",
        "1. Create constraints so that if `P_i` is inside `S_j`, `Q_i` is on one side of `H_j`.  (Assume `Q_i = (x,y,z,1)`,`H_j = (a,b,c,1)` but leave out the 1 to save space):\n",
        "\n",
        "  ```python\n",
        "  for all i, j:\n",
        "       constraints.append( (Q@H.T+1)[i][j]*membership[i][j] > 0 )\n",
        "  ```\n",
        "1. Set objective function as anything\n",
        "1. Solve\n",
        "\n",
        "\n"
      ]
    },
    {
      "metadata": {
        "id": "FVyl0L6bH1Sx",
        "colab_type": "code",
        "outputId": "322b0417-7940-491e-d69c-153e2db5e1b4",
        "colab": {
          "base_uri": "https://localhost:8080/",
          "height": 649
        }
      },
      "cell_type": "code",
      "source": [
        "!pip install cvxpy\n",
        "!pip install numpy"
      ],
      "execution_count": 0,
      "outputs": [
        {
          "output_type": "stream",
          "text": [
            "Collecting cvxpy\n",
            "\u001b[?25l  Downloading https://files.pythonhosted.org/packages/76/3c/4314c56be5b069f4d542046912d503a07c96b42c0b075ef0e32b48f8579f/cvxpy-1.0.10.tar.gz (900kB)\n",
            "\u001b[K    100% |████████████████████████████████| 901kB 19.6MB/s \n",
            "\u001b[?25hCollecting osqp (from cvxpy)\n",
            "\u001b[?25l  Downloading https://files.pythonhosted.org/packages/43/f2/bbeb83c0da6fd89a6d835b98d85ec76c04f39a476c065e3c99b6b709c493/osqp-0.4.1-cp36-cp36m-manylinux1_x86_64.whl (146kB)\n",
            "\u001b[K    100% |████████████████████████████████| 153kB 25.3MB/s \n",
            "\u001b[?25hCollecting ecos>=2 (from cvxpy)\n",
            "\u001b[?25l  Downloading https://files.pythonhosted.org/packages/55/ed/d131ff51f3a8f73420eb1191345eb49f269f23cadef515172e356018cde3/ecos-2.0.7.post1-cp36-cp36m-manylinux1_x86_64.whl (147kB)\n",
            "\u001b[K    100% |████████████████████████████████| 153kB 31.3MB/s \n",
            "\u001b[?25hCollecting scs>=1.1.3 (from cvxpy)\n",
            "\u001b[?25l  Downloading https://files.pythonhosted.org/packages/b3/fd/6e01c4f4a69fcc6c3db130ba55572089e78e77ea8c0921a679f9da1ec04c/scs-2.0.2.tar.gz (133kB)\n",
            "\u001b[K    100% |████████████████████████████████| 143kB 33.4MB/s \n",
            "\u001b[?25hCollecting multiprocess (from cvxpy)\n",
            "\u001b[?25l  Downloading https://files.pythonhosted.org/packages/7a/ee/b9bf3e171f936743758ef924622d8dd00516c5532b00a1210a09bce68325/multiprocess-0.70.6.1.tar.gz (1.4MB)\n",
            "\u001b[K    100% |████████████████████████████████| 1.4MB 12.1MB/s \n",
            "\u001b[?25hCollecting fastcache (from cvxpy)\n",
            "  Downloading https://files.pythonhosted.org/packages/fb/98/93f2d36738868e8dd5a8dbfc918169b24658f63e5fa041fe000c22ae4f8b/fastcache-1.0.2.tar.gz\n",
            "Requirement already satisfied: six in /usr/local/lib/python3.6/dist-packages (from cvxpy) (1.11.0)\n",
            "Requirement already satisfied: toolz in /usr/local/lib/python3.6/dist-packages (from cvxpy) (0.9.0)\n",
            "Requirement already satisfied: numpy>=1.14 in /usr/local/lib/python3.6/dist-packages (from cvxpy) (1.14.6)\n",
            "Requirement already satisfied: scipy>=0.19 in /usr/local/lib/python3.6/dist-packages (from cvxpy) (1.1.0)\n",
            "Requirement already satisfied: future in /usr/local/lib/python3.6/dist-packages (from osqp->cvxpy) (0.16.0)\n",
            "Requirement already satisfied: dill>=0.2.8.1 in /usr/local/lib/python3.6/dist-packages (from multiprocess->cvxpy) (0.2.8.2)\n",
            "Building wheels for collected packages: cvxpy, scs, multiprocess, fastcache\n",
            "  Running setup.py bdist_wheel for cvxpy ... \u001b[?25l-\b \b\\\b \b|\b \b/\b \b-\b \b\\\b \b|\b \b/\b \b-\b \b\\\b \b|\b \b/\b \b-\b \b\\\b \b|\b \b/\b \b-\b \b\\\b \b|\b \b/\b \b-\b \b\\\b \b|\b \b/\b \b-\b \b\\\b \b|\b \b/\b \b-\b \b\\\b \b|\b \b/\b \b-\b \b\\\b \b|\b \b/\b \bdone\n",
            "\u001b[?25h  Stored in directory: /root/.cache/pip/wheels/8b/af/aa/46570716431521ee92085f317c33b2f427e27f08fe4a8a738a\n",
            "  Running setup.py bdist_wheel for scs ... \u001b[?25l-\b \b\\\b \b|\b \b/\b \b-\b \b\\\b \b|\b \b/\b \b-\b \b\\\b \b|\b \b/\b \b-\b \b\\\b \b|\b \b/\b \b-\b \b\\\b \b|\b \b/\b \b-\b \b\\\b \b|\b \b/\b \b-\b \b\\\b \b|\b \b/\b \b-\b \b\\\b \b|\b \b/\b \b-\b \b\\\b \b|\b \b/\b \b-\b \b\\\b \bdone\n",
            "\u001b[?25h  Stored in directory: /root/.cache/pip/wheels/ff/f0/aa/530ccd478d7d9900b4e9ef5bc5a39e895ce110bed3d3ac653e\n",
            "  Running setup.py bdist_wheel for multiprocess ... \u001b[?25l-\b \b\\\b \b|\b \b/\b \bdone\n",
            "\u001b[?25h  Stored in directory: /root/.cache/pip/wheels/8b/36/e5/96614ab62baf927e9bc06889ea794a8e87552b84bb6bf65e3e\n",
            "  Running setup.py bdist_wheel for fastcache ... \u001b[?25l-\b \b\\\b \bdone\n",
            "\u001b[?25h  Stored in directory: /root/.cache/pip/wheels/b7/90/c0/da92ac52d188d9ebca577044e89a14d0e6ff333c1bcd1ebc14\n",
            "Successfully built cvxpy scs multiprocess fastcache\n",
            "Installing collected packages: osqp, ecos, scs, multiprocess, fastcache, cvxpy\n",
            "Successfully installed cvxpy-1.0.10 ecos-2.0.7.post1 fastcache-1.0.2 multiprocess-0.70.6.1 osqp-0.4.1 scs-2.0.2\n",
            "Requirement already satisfied: numpy in /usr/local/lib/python3.6/dist-packages (1.14.6)\n"
          ],
          "name": "stdout"
        }
      ]
    },
    {
      "metadata": {
        "id": "CDI8z0nR53kN",
        "colab_type": "code",
        "colab": {}
      },
      "cell_type": "code",
      "source": [
        "import cvxpy as cvx\n",
        "import numpy as np\n",
        "import random\n",
        "\n",
        "#############\n",
        "# Constants #\n",
        "#############\n",
        "BIG_NUMBER = 999999\n",
        "SMALL_NUMBER = 1/BIG_NUMBER\n",
        "# SMALL_NUMBER = cvx.Variable() # Tried this to see if we can minimize SMALL_NUMBER**2\n",
        "\n",
        "GRID_SIZE = 1 # grid from which points will be sampled\n",
        "m = 50 # number of points\n",
        "n = 20 # number of squares\n",
        "\n",
        "\n",
        "#########################################\n",
        "# This are redefined in following cells #\n",
        "#########################################\n",
        "\n",
        "P = points_2d = [] # M list of Point Objects\n",
        "S = squares = [] # N list of Square Objects\n",
        "\n",
        "membership = [] # saves flag of whether point i is in square j\n",
        "\n",
        "Q = var_points_3d = [] # M x 3 matrix\n",
        "H = var_half_spaces = [] # N x 3 matrix\n",
        "\n"
      ],
      "execution_count": 0,
      "outputs": []
    },
    {
      "metadata": {
        "id": "7Od_b8TyAQrS",
        "colab_type": "code",
        "colab": {}
      },
      "cell_type": "code",
      "source": [
        "class Point():\n",
        "  def __init__(self, x, y):\n",
        "    self.x = x\n",
        "    self.y = y\n",
        "  \n",
        "  def __repr__(self):\n",
        "    return \"({},{})\".format(round(self.x, 2), round(self.y, 2))\n",
        "    \n",
        "  def isinside(self, square):\n",
        "    s = square\n",
        "    return (abs(s.center.x - self.x) <= s.radius) and (abs(s.center.y - self.y) <= s.radius)\n",
        "    \n",
        "    \n",
        "    \n",
        "class Square():\n",
        "  def __init__(self, center, radius):\n",
        "    self.center = center\n",
        "    self.radius = radius\n",
        "    \n",
        "  def __repr__(self):\n",
        "    return \"[{},{}]x[{},{}]\".format(round(self.center.x - self.radius, 2), round(self.center.x + self.radius, 2), \n",
        "                                    round(self.center.y - self.radius, 2), round(self.center.y + self.radius, 2))"
      ],
      "execution_count": 0,
      "outputs": []
    },
    {
      "metadata": {
        "id": "ObgmH33IH4CZ",
        "colab_type": "code",
        "colab": {}
      },
      "cell_type": "code",
      "source": [
        "def sample_points(m):\n",
        "  # Randomly sample m points\n",
        "  P = points_2d = [] # M list of Point\n",
        "  for i in range(m):\n",
        "    x = random.uniform(0, GRID_SIZE)\n",
        "    y = random.uniform(0, GRID_SIZE)\n",
        "    P.append(Point(x,y))\n",
        "  return P\n",
        "\n",
        "\n",
        "\n",
        "def sample_squares(n):\n",
        "  # Randomly create n squares\n",
        "  S = squares = [] # N list of Square\n",
        "  for j in range(n):\n",
        "    center_x = random.uniform(0, GRID_SIZE)\n",
        "    center_y = random.uniform(0, GRID_SIZE)\n",
        "    center = Point(center_x, center_y)\n",
        "    radius = random.uniform(0, min(center_x, GRID_SIZE-center_x, center_y, GRID_SIZE-center_y))\n",
        "    S.append(Square(center, radius))\n",
        "  return S\n",
        "\n",
        "\n",
        "\n",
        "def get_membership(P, S):\n",
        "  # Membership saves the flag p_i.isinside(s_j)\n",
        "  membership = []\n",
        "  for i in range(m):\n",
        "    tmp = []\n",
        "    for j in range(n):\n",
        "      tmp.append(1 if P[i].isinside(S[j]) else -1)\n",
        "    membership.append(tmp)\n",
        "  return np.array(membership)\n",
        "\n",
        "\n",
        "P = sample_points(m)\n",
        "S = sample_squares(n)\n",
        "membership = get_membership(P, S)"
      ],
      "execution_count": 0,
      "outputs": []
    },
    {
      "metadata": {
        "id": "OLQY6-7uJeyG",
        "colab_type": "code",
        "cellView": "code",
        "colab": {}
      },
      "cell_type": "code",
      "source": [
        "#@title Default title text\n",
        "# Create 3m variables representing 3D points ((x_i,y_i,z_i), 1): P[i][k] = cvx.Variable()\n",
        "# Create 3n variables representing 3D half-spaces ((a_i, b_i, c_i), 1) H[j][k] = cvx.Variable()\n",
        "\n",
        "\n",
        "def create_constraints(m, n, membership):\n",
        "  Q = var_points_3d = cvx.Variable(shape=(m,3)) # M x 3 matrix of 3D points\n",
        "  H = var_half_spaces = cvx.Variable(shape=(n,3)) # N x 3 matrix of 3D Half-spaces\n",
        "  constraints = []\n",
        "  \n",
        "#   dot_product = Q@H.T+1\n",
        "#   print(dot_product, dot_product[0][0])\n",
        "  for i in range(m):\n",
        "    for j in range(n):\n",
        "      # dot(Qi,Hj) > 0 if point i inside square j, < 0 if outside\n",
        "      # membership[i][j] is either 1 or -1\n",
        "      # CVXPY does not support strict equality. Hence the use of SMALL_NUMBER.\n",
        "      # CVXPY does not support Hadamard Product (elementwise product). Hence the use of a for-loop\n",
        "#       constraints.append(dot_product[i][j]*membership[i][j] >= SMALL_NUMBER)\n",
        "      pass\n",
        "  a = cvx.Variable()\n",
        "  b = cvx.Variable()\n",
        "  c = cvx.Variable()\n",
        "  x = cvx.Variable()\n",
        "  y = cvx.Variable()\n",
        "  z = cvx.Variable()\n",
        "  \n",
        "  constraints.append(a*x + b*y + c*z + 1 >= SMALL_NUMBER)\n",
        "\n",
        "#   constraints.append(dot_product[0][0]*membership[0][0] <= SMALL_NUMBER)\n",
        "  return constraints, Q, H\n",
        "\n",
        "\n",
        "\n",
        "\n",
        "constraints, Q, H = create_constraints(m, n, membership)\n"
      ],
      "execution_count": 0,
      "outputs": []
    },
    {
      "metadata": {
        "id": "oVgKtqUDH9vW",
        "colab_type": "code",
        "outputId": "dbc7d83e-f518-41e1-9795-5e9802d0e9ae",
        "colab": {
          "base_uri": "https://localhost:8080/",
          "height": 728
        }
      },
      "cell_type": "code",
      "source": [
        "obj = cvx.Minimize(1) # DCPError: Problem does not follow DCP rules. http://cvxr.com/cvx/doc/dcp.html\n",
        "\n",
        "# fake_var = cvx.Variable()\n",
        "# obj = cvx.Minimize(fake_var**2) # DCPError: Problem does not follow DCP rules.\n",
        "\n",
        "# obj = cvx.Minimize(SMALL_NUMBER**2) # (if we set SMALL_NUMBER as a variable) DCPError: Problem does not follow DCP rules.\n",
        "\n",
        "prob = cvx.Problem(obj, constraints)\n",
        "prob.solve()  # Returns the optimal value.\n",
        "print(\"status:\", prob.status)\n",
        "print(\"optimal value\", prob.value)\n",
        "print(\"optimal var\", H.value)\n"
      ],
      "execution_count": 0,
      "outputs": [
        {
          "output_type": "error",
          "ename": "DCPError",
          "evalue": "ignored",
          "traceback": [
            "\u001b[0;31m---------------------------------------------------------------------------\u001b[0m",
            "\u001b[0;31mDCPError\u001b[0m                                  Traceback (most recent call last)",
            "\u001b[0;32m<ipython-input-36-4ec8938f6111>\u001b[0m in \u001b[0;36m<module>\u001b[0;34m()\u001b[0m\n\u001b[1;32m      7\u001b[0m \u001b[0;34m\u001b[0m\u001b[0m\n\u001b[1;32m      8\u001b[0m \u001b[0mprob\u001b[0m \u001b[0;34m=\u001b[0m \u001b[0mcvx\u001b[0m\u001b[0;34m.\u001b[0m\u001b[0mProblem\u001b[0m\u001b[0;34m(\u001b[0m\u001b[0mobj\u001b[0m\u001b[0;34m,\u001b[0m \u001b[0mconstraints\u001b[0m\u001b[0;34m)\u001b[0m\u001b[0;34m\u001b[0m\u001b[0;34m\u001b[0m\u001b[0m\n\u001b[0;32m----> 9\u001b[0;31m \u001b[0mprob\u001b[0m\u001b[0;34m.\u001b[0m\u001b[0msolve\u001b[0m\u001b[0;34m(\u001b[0m\u001b[0;34m)\u001b[0m  \u001b[0;31m# Returns the optimal value.\u001b[0m\u001b[0;34m\u001b[0m\u001b[0;34m\u001b[0m\u001b[0m\n\u001b[0m\u001b[1;32m     10\u001b[0m \u001b[0mprint\u001b[0m\u001b[0;34m(\u001b[0m\u001b[0;34m\"status:\"\u001b[0m\u001b[0;34m,\u001b[0m \u001b[0mprob\u001b[0m\u001b[0;34m.\u001b[0m\u001b[0mstatus\u001b[0m\u001b[0;34m)\u001b[0m\u001b[0;34m\u001b[0m\u001b[0;34m\u001b[0m\u001b[0m\n\u001b[1;32m     11\u001b[0m \u001b[0mprint\u001b[0m\u001b[0;34m(\u001b[0m\u001b[0;34m\"optimal value\"\u001b[0m\u001b[0;34m,\u001b[0m \u001b[0mprob\u001b[0m\u001b[0;34m.\u001b[0m\u001b[0mvalue\u001b[0m\u001b[0;34m)\u001b[0m\u001b[0;34m\u001b[0m\u001b[0;34m\u001b[0m\u001b[0m\n",
            "\u001b[0;32m/usr/local/lib/python3.6/dist-packages/cvxpy/problems/problem.py\u001b[0m in \u001b[0;36msolve\u001b[0;34m(self, *args, **kwargs)\u001b[0m\n\u001b[1;32m    245\u001b[0m         \u001b[0;32melse\u001b[0m\u001b[0;34m:\u001b[0m\u001b[0;34m\u001b[0m\u001b[0;34m\u001b[0m\u001b[0m\n\u001b[1;32m    246\u001b[0m             \u001b[0msolve_func\u001b[0m \u001b[0;34m=\u001b[0m \u001b[0mProblem\u001b[0m\u001b[0;34m.\u001b[0m\u001b[0m_solve\u001b[0m\u001b[0;34m\u001b[0m\u001b[0;34m\u001b[0m\u001b[0m\n\u001b[0;32m--> 247\u001b[0;31m         \u001b[0;32mreturn\u001b[0m \u001b[0msolve_func\u001b[0m\u001b[0;34m(\u001b[0m\u001b[0mself\u001b[0m\u001b[0;34m,\u001b[0m \u001b[0;34m*\u001b[0m\u001b[0margs\u001b[0m\u001b[0;34m,\u001b[0m \u001b[0;34m**\u001b[0m\u001b[0mkwargs\u001b[0m\u001b[0;34m)\u001b[0m\u001b[0;34m\u001b[0m\u001b[0;34m\u001b[0m\u001b[0m\n\u001b[0m\u001b[1;32m    248\u001b[0m \u001b[0;34m\u001b[0m\u001b[0m\n\u001b[1;32m    249\u001b[0m     \u001b[0;34m@\u001b[0m\u001b[0mclassmethod\u001b[0m\u001b[0;34m\u001b[0m\u001b[0;34m\u001b[0m\u001b[0m\n",
            "\u001b[0;32m/usr/local/lib/python3.6/dist-packages/cvxpy/problems/problem.py\u001b[0m in \u001b[0;36m_solve\u001b[0;34m(self, solver, ignore_dcp, warm_start, verbose, parallel, **kwargs)\u001b[0m\n\u001b[1;32m    355\u001b[0m                                                               solver=solver)\n\u001b[1;32m    356\u001b[0m             \u001b[0;32mexcept\u001b[0m \u001b[0mException\u001b[0m \u001b[0;32mas\u001b[0m \u001b[0me\u001b[0m\u001b[0;34m:\u001b[0m\u001b[0;34m\u001b[0m\u001b[0;34m\u001b[0m\u001b[0m\n\u001b[0;32m--> 357\u001b[0;31m                 \u001b[0;32mraise\u001b[0m \u001b[0me\u001b[0m\u001b[0;34m\u001b[0m\u001b[0;34m\u001b[0m\u001b[0m\n\u001b[0m\u001b[1;32m    358\u001b[0m \u001b[0;34m\u001b[0m\u001b[0m\n\u001b[1;32m    359\u001b[0m         \u001b[0mdata\u001b[0m\u001b[0;34m,\u001b[0m \u001b[0minverse_data\u001b[0m \u001b[0;34m=\u001b[0m \u001b[0mself\u001b[0m\u001b[0;34m.\u001b[0m\u001b[0m_solving_chain\u001b[0m\u001b[0;34m.\u001b[0m\u001b[0mapply\u001b[0m\u001b[0;34m(\u001b[0m\u001b[0mself\u001b[0m\u001b[0;34m)\u001b[0m\u001b[0;34m\u001b[0m\u001b[0;34m\u001b[0m\u001b[0m\n",
            "\u001b[0;32m/usr/local/lib/python3.6/dist-packages/cvxpy/problems/problem.py\u001b[0m in \u001b[0;36m_solve\u001b[0;34m(self, solver, ignore_dcp, warm_start, verbose, parallel, **kwargs)\u001b[0m\n\u001b[1;32m    353\u001b[0m             \u001b[0;32mtry\u001b[0m\u001b[0;34m:\u001b[0m\u001b[0;34m\u001b[0m\u001b[0;34m\u001b[0m\u001b[0m\n\u001b[1;32m    354\u001b[0m                 self._solving_chain = construct_solving_chain(self,\n\u001b[0;32m--> 355\u001b[0;31m                                                               solver=solver)\n\u001b[0m\u001b[1;32m    356\u001b[0m             \u001b[0;32mexcept\u001b[0m \u001b[0mException\u001b[0m \u001b[0;32mas\u001b[0m \u001b[0me\u001b[0m\u001b[0;34m:\u001b[0m\u001b[0;34m\u001b[0m\u001b[0;34m\u001b[0m\u001b[0m\n\u001b[1;32m    357\u001b[0m                 \u001b[0;32mraise\u001b[0m \u001b[0me\u001b[0m\u001b[0;34m\u001b[0m\u001b[0;34m\u001b[0m\u001b[0m\n",
            "\u001b[0;32m/usr/local/lib/python3.6/dist-packages/cvxpy/reductions/solvers/solving_chain.py\u001b[0m in \u001b[0;36mconstruct_solving_chain\u001b[0;34m(problem, solver)\u001b[0m\n\u001b[1;32m     67\u001b[0m     \u001b[0;31m# Both of these chains require that the problem is DCP.\u001b[0m\u001b[0;34m\u001b[0m\u001b[0;34m\u001b[0m\u001b[0;34m\u001b[0m\u001b[0m\n\u001b[1;32m     68\u001b[0m     \u001b[0;32mif\u001b[0m \u001b[0;32mnot\u001b[0m \u001b[0mproblem\u001b[0m\u001b[0;34m.\u001b[0m\u001b[0mis_dcp\u001b[0m\u001b[0;34m(\u001b[0m\u001b[0;34m)\u001b[0m\u001b[0;34m:\u001b[0m\u001b[0;34m\u001b[0m\u001b[0;34m\u001b[0m\u001b[0m\n\u001b[0;32m---> 69\u001b[0;31m         \u001b[0;32mraise\u001b[0m \u001b[0mDCPError\u001b[0m\u001b[0;34m(\u001b[0m\u001b[0;34m\"Problem does not follow DCP rules.\"\u001b[0m\u001b[0;34m)\u001b[0m\u001b[0;34m\u001b[0m\u001b[0;34m\u001b[0m\u001b[0m\n\u001b[0m\u001b[1;32m     70\u001b[0m \u001b[0;34m\u001b[0m\u001b[0m\n\u001b[1;32m     71\u001b[0m     \u001b[0;31m# Both reduction chains exclusively accept minimization problems.\u001b[0m\u001b[0;34m\u001b[0m\u001b[0;34m\u001b[0m\u001b[0;34m\u001b[0m\u001b[0m\n",
            "\u001b[0;31mDCPError\u001b[0m: Problem does not follow DCP rules."
          ]
        }
      ]
    },
    {
      "metadata": {
        "id": "RGamgwcsNIqk",
        "colab_type": "code",
        "outputId": "066cff81-f2c6-4ba8-9833-d25927d60bab",
        "colab": {
          "base_uri": "https://localhost:8080/",
          "height": 34
        }
      },
      "cell_type": "code",
      "source": [
        "prob.constraints"
      ],
      "execution_count": 0,
      "outputs": [
        {
          "output_type": "execute_result",
          "data": {
            "text/plain": [
              "[NonPos(Expression(UNKNOWN, UNKNOWN, ()))]"
            ]
          },
          "metadata": {
            "tags": []
          },
          "execution_count": 37
        }
      ]
    },
    {
      "metadata": {
        "id": "jd7zqGlmOHwX",
        "colab_type": "code",
        "colab": {}
      },
      "cell_type": "code",
      "source": [
        ""
      ],
      "execution_count": 0,
      "outputs": []
    }
  ]
}